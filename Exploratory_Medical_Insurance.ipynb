{
 "cells": [
  {
   "cell_type": "markdown",
   "metadata": {},
   "source": [
    "# U.S. Medical Insurance Costs"
   ]
  },
  {
   "cell_type": "code",
   "execution_count": 1,
   "metadata": {
    "jp-MarkdownHeadingCollapsed": true,
    "scrolled": true
   },
   "outputs": [
    {
     "name": "stdout",
     "output_type": "stream",
     "text": [
      "      age     sex     bmi  children smoker     region      charges\n",
      "0      19  female  27.900         0    yes  southwest  16884.92400\n",
      "1      18    male  33.770         1     no  southeast   1725.55230\n",
      "2      28    male  33.000         3     no  southeast   4449.46200\n",
      "3      33    male  22.705         0     no  northwest  21984.47061\n",
      "4      32    male  28.880         0     no  northwest   3866.85520\n",
      "...   ...     ...     ...       ...    ...        ...          ...\n",
      "1333   50    male  30.970         3     no  northwest  10600.54830\n",
      "1334   18  female  31.920         0     no  northeast   2205.98080\n",
      "1335   18  female  36.850         0     no  southeast   1629.83350\n",
      "1336   21  female  25.800         0     no  southwest   2007.94500\n",
      "1337   61  female  29.070         0    yes  northwest  29141.36030\n",
      "\n",
      "[1338 rows x 7 columns]\n"
     ]
    }
   ],
   "source": [
    "import pandas as pd\n",
    "insurance_df = pd.read_csv('insurance.csv')\n",
    "print(insurance_df)"
   ]
  },
  {
   "cell_type": "code",
   "execution_count": 2,
   "metadata": {},
   "outputs": [],
   "source": [
    "# I want to create a function that can go through columns and generate an average for each\n",
    "def col_avg(column, df):\n",
    "    return df[column].mean()\n",
    "avg_age = round(col_avg('age', insurance_df))\n",
    "avg_bmi = round(col_avg('bmi', insurance_df), 1)\n",
    "avg_children = round(col_avg('children', insurance_df))\n",
    "avg_charges = round(col_avg('charges', insurance_df), 2)"
   ]
  },
  {
   "cell_type": "code",
   "execution_count": 3,
   "metadata": {},
   "outputs": [],
   "source": [
    "# I want to create a function that can create a new df that only has male or female data\n",
    "# able to change gender_value to 'female' when call gender_df() for women\n",
    "def gender_df(df, gender_value='male', gender_column='sex'):\n",
    "    filtered_df = df[df[gender_column] == gender_value].copy()\n",
    "    filtered_df.drop(columns=[gender_column], inplace=True)\n",
    "    return filtered_df\n"
   ]
  },
  {
   "cell_type": "code",
   "execution_count": 4,
   "metadata": {},
   "outputs": [
    {
     "name": "stdout",
     "output_type": "stream",
     "text": [
      "      age     bmi  children smoker     region      charges\n",
      "1      18  33.770         1     no  southeast   1725.55230\n",
      "2      28  33.000         3     no  southeast   4449.46200\n",
      "3      33  22.705         0     no  northwest  21984.47061\n",
      "4      32  28.880         0     no  northwest   3866.85520\n",
      "8      37  29.830         2     no  northeast   6406.41070\n",
      "...   ...     ...       ...    ...        ...          ...\n",
      "1324   31  25.935         1     no  northwest   4239.89265\n",
      "1325   61  33.535         0     no  northeast  13143.33665\n",
      "1327   51  30.030         1     no  southeast   9377.90470\n",
      "1329   52  38.600         2     no  southwest  10325.20600\n",
      "1333   50  30.970         3     no  northwest  10600.54830\n",
      "\n",
      "[676 rows x 6 columns]\n"
     ]
    }
   ],
   "source": [
    "# male data frame and averages\n",
    "male_df = gender_df(insurance_df, gender_value='male')\n",
    "print(male_df)\n",
    "# taking the averages function from about to obtain male averages\n",
    "# def col_avg(column, df):\n",
    "    # return insurance_df[column].mean()\n",
    "avg_age_male = round(col_avg('age', male_df))\n",
    "avg_bmi_male = round(col_avg('bmi', male_df), 1)\n",
    "avg_children_male = round(col_avg('children', male_df))\n",
    "avg_charges_male = round(col_avg('charges', male_df), 2)\n",
    "# could turn this data into a chart"
   ]
  },
  {
   "cell_type": "code",
   "execution_count": 5,
   "metadata": {},
   "outputs": [
    {
     "name": "stdout",
     "output_type": "stream",
     "text": [
      "      age    bmi  children smoker     region      charges\n",
      "0      19  27.90         0    yes  southwest  16884.92400\n",
      "5      31  25.74         0     no  southeast   3756.62160\n",
      "6      46  33.44         1     no  southeast   8240.58960\n",
      "7      37  27.74         3     no  northwest   7281.50560\n",
      "9      60  25.84         0     no  northwest  28923.13692\n",
      "...   ...    ...       ...    ...        ...          ...\n",
      "1332   52  44.70         3     no  southwest  11411.68500\n",
      "1334   18  31.92         0     no  northeast   2205.98080\n",
      "1335   18  36.85         0     no  southeast   1629.83350\n",
      "1336   21  25.80         0     no  southwest   2007.94500\n",
      "1337   61  29.07         0    yes  northwest  29141.36030\n",
      "\n",
      "[662 rows x 6 columns]\n"
     ]
    }
   ],
   "source": [
    "#  female data frame and averages\n",
    "female_df = gender_df(insurance_df, gender_value='female')\n",
    "print(female_df)\n",
    "# taking the averages function from about to obtain female averages\n",
    "avg_age_female = round(col_avg('age', female_df))\n",
    "avg_bmi_female = round(col_avg('bmi', female_df), 1)\n",
    "avg_children_female = round(col_avg('children', female_df))\n",
    "avg_charges_female = round(col_avg('charges', female_df), 2)\n",
    "# could turn this data into a chart"
   ]
  },
  {
   "cell_type": "code",
   "execution_count": 6,
   "metadata": {},
   "outputs": [
    {
     "name": "stdout",
     "output_type": "stream",
     "text": [
      "The average age of a women in this data frame is 40 years old versus men being on average 39 years old.\n",
      "The average bmi of a male is 30.9 vs a female at 30.4.\n",
      "Women have on average the same amount of children as men coming in at 1:1.\n",
      "The cost of insurance for a female is on average: $12569.58 dollars, whereas men's average insurance cost comes in at $13956.75 dollars.\n"
     ]
    }
   ],
   "source": [
    "# comparisons in data\n",
    "print(f\"The average age of a women in this data frame is {avg_age_female} years old versus men being on average {avg_age_male} years old.\")\n",
    "print(f\"The average bmi of a male is {avg_bmi_male} vs a female at {avg_bmi_female}.\")\n",
    "print(f\"Women have on average the same amount of children as men coming in at {avg_children_female}:{avg_children_male}.\")\n",
    "print(f\"The cost of insurance for a female is on average: ${avg_charges_female} dollars, whereas men's average insurance cost comes in at ${avg_charges_male} dollars.\")"
   ]
  },
  {
   "cell_type": "markdown",
   "metadata": {},
   "source": [
    "Where does this cost decrepency come from?\n",
    "All the numbers pulled seem to be close together.\n",
    "Lets take a look at bmi. We can tell from this data that on average men and women who are paying for medical insurance are obese. Does bmi play a role in why the cost for insurance is higher for a male, that is slightly younger, and with the same amount of children on average. We will look at how many people, men and women, fall into each category. We'll get the percentage and see if they indicate that there are more men in the overweight/obese category. \n",
    "# if no findings we may look into the cost difference for smokers. "
   ]
  },
  {
   "cell_type": "code",
   "execution_count": 7,
   "metadata": {},
   "outputs": [],
   "source": [
    "# Below 18.5\tUnderweight\n",
    "# 18.5 – 24.9\tHealthy Weight\n",
    "# 25.0 – 29.9\tOverweight\n",
    "# 30.0 and Above\tObesity\n",
    "# gathering information from the bmi column and price column to see which categories\n",
    "def bmi_categories(df, total_obese, num_obese, total_overweight, num_overweight, total_healthyweight, num_healthyweight, total_underweight, num_underweight):\n",
    "    for index, row in df.iterrows():\n",
    "        if row['bmi'] >= 30.0:\n",
    "            total_obese += row['charges']\n",
    "            num_obese += 1\n",
    "        elif row['bmi'] >= 25.0:\n",
    "            total_overweight += row['charges']\n",
    "            num_overweight += 1\n",
    "        elif row['bmi'] >= 18.5:\n",
    "            total_healthyweight += row['charges']\n",
    "            num_healthyweight += 1\n",
    "        else:\n",
    "            total_underweight += row['charges']\n",
    "            num_underweight += 1\n",
    "            \n",
    "    return total_obese, num_obese, total_overweight, num_overweight, total_healthyweight, num_healthyweight, total_underweight, num_underweight"
   ]
  },
  {
   "cell_type": "code",
   "execution_count": 8,
   "metadata": {},
   "outputs": [],
   "source": [
    "# Female DataFrame\n",
    "#total_weight_female is the cost. Not really important until gathering cost averages\n",
    "total_obese_female = 0\n",
    "num_obese_females = 0\n",
    "total_overweight_female = 0\n",
    "num_overweight_females = 0\n",
    "total_healthyweight_female = 0\n",
    "num_healthyweight_females = 0\n",
    "total_underweight_female = 0\n",
    "num_underweight_females = 0\n",
    "\n",
    "total_obese_female, \\\n",
    "num_obese_females, \\\n",
    "total_overweight_female, \\\n",
    "num_overweight_females, \\\n",
    "total_healthyweight_female, \\\n",
    "num_healthyweight_females, \\\n",
    "total_underweight_female, \\\n",
    "num_underweight_females = bmi_categories(female_df, \n",
    "                                         total_obese_female, num_obese_females, \n",
    "                                         total_overweight_female, num_overweight_females, \n",
    "                                         total_healthyweight_female, num_healthyweight_females, \n",
    "                                         total_underweight_female, num_underweight_females)\n",
    "\n",
    "total_females = num_obese_females + num_overweight_females + num_healthyweight_females + num_underweight_females\n",
    "\n",
    "#gathering percentage of each category\n",
    "def percent_category(num_weight_category, total_pop):\n",
    "    percent = round(((num_weight_category / total_pop) * 100), 1)\n",
    "    return percent\n",
    "percent_obese_female = percent_category(num_obese_females, total_females)\n",
    "percent_overweight_female = percent_category(num_overweight_females, total_females)\n",
    "percent_healthyweight_female = percent_category(num_healthyweight_females, total_females)\n",
    "percent_underweight_female = percent_category(num_overweight_females, total_females)\n",
    "\n",
    "# gathering average cost for each category\n",
    "def average_cost_category(total_weight_category, num_weight_category):\n",
    "    average = round((total_weight_category / num_weight_category), 2)\n",
    "    return average\n",
    "avg_cost_obese_female = average_cost_category(total_obese_female, num_obese_females)\n",
    "avg_cost_overweight_female = average_cost_category(total_overweight_female, num_overweight_females)\n",
    "avg_cost_healthyweight_female = average_cost_category(total_healthyweight_female, num_healthyweight_females)\n",
    "avg_cost_underweight_female = average_cost_category(total_underweight_female, num_underweight_females)"
   ]
  },
  {
   "cell_type": "code",
   "execution_count": 9,
   "metadata": {},
   "outputs": [],
   "source": [
    "# male DataFrame\n",
    "#total_weight_male is the cost. Not really important until gathering cost averages\n",
    "total_obese_male = 0\n",
    "num_obese_males = 0\n",
    "total_overweight_male = 0\n",
    "num_overweight_males = 0\n",
    "total_healthyweight_male = 0\n",
    "num_healthyweight_males = 0\n",
    "total_underweight_male = 0\n",
    "num_underweight_males = 0\n",
    "\n",
    "total_obese_male, \\\n",
    "num_obese_males, \\\n",
    "total_overweight_male, \\\n",
    "num_overweight_males, \\\n",
    "total_healthyweight_male, \\\n",
    "num_healthyweight_males, \\\n",
    "total_underweight_male, \\\n",
    "num_underweight_males = bmi_categories(male_df, \n",
    "                                         total_obese_male, num_obese_males, \n",
    "                                         total_overweight_male, num_overweight_males, \n",
    "                                         total_healthyweight_male, num_healthyweight_males, \n",
    "                                         total_underweight_male, num_underweight_males)\n",
    "\n",
    "total_males = num_obese_males + num_overweight_males + num_healthyweight_males + num_underweight_males\n",
    "\n",
    "#gathering percentage of each category\n",
    "def percent_category(num_weight_category, total_pop):\n",
    "    percent = round(((num_weight_category / total_pop) * 100), 1)\n",
    "    return percent\n",
    "percent_obese_male = percent_category(num_obese_males, total_males)\n",
    "percent_overweight_male = percent_category(num_overweight_males, total_males)\n",
    "percent_healthyweight_male = percent_category(num_healthyweight_males, total_males)\n",
    "percent_underweight_male = percent_category(num_overweight_males, total_males)\n",
    "\n",
    "# gathering average cost for each category\n",
    "def average_cost_category(total_weight_category, num_weight_category):\n",
    "    average = round((total_weight_category / num_weight_category), 2)\n",
    "    return average\n",
    "avg_cost_obese_male = average_cost_category(total_obese_male, num_obese_males)\n",
    "avg_cost_overweight_male = average_cost_category(total_overweight_male, num_overweight_males)\n",
    "avg_cost_healthyweight_male = average_cost_category(total_healthyweight_male, num_healthyweight_males)\n",
    "avg_cost_underweight_male = average_cost_category(total_underweight_male, num_underweight_males)"
   ]
  },
  {
   "cell_type": "code",
   "execution_count": 10,
   "metadata": {},
   "outputs": [
    {
     "name": "stdout",
     "output_type": "stream",
     "text": [
      "Results for female data:\n",
      "Number of obese females: 334 at 50.5% of the population paying on average $14370.67 dollars per year.\n",
      "Number of overweight females: 199 at 30.1% of the population paying on average $10616.85 dollars per year.\n",
      "Number of healthy weight females: 117 at 17.7% of the population paying on average $10909.02 dollars per year.\n",
      "Number of underweight females: 12 at 30.1% of the population paying on average $11012.53 dollars per year.\n",
      " \n",
      "Results for male data:\n",
      "Number of obese males: 373 at 55.2% of the population paying on average $16610.45 dollars per year.\n",
      "Number of overweight males: 187 at 27.7% of the population paying on average $11381.95 dollars per year.\n",
      "Number of healthy weight males: 108 at 16.0% of the population paying on average $9868.02 dollars per year.\n",
      "Number of underweight males: 8 at 27.7% of the population paying on average $5611.71 dollars per year.\n"
     ]
    }
   ],
   "source": [
    "print(\"Results for female data:\")\n",
    "print(f\"Number of obese females: {num_obese_females} at {percent_obese_female}% of the population paying on average ${avg_cost_obese_female} dollars per year.\")\n",
    "print(f\"Number of overweight females: {num_overweight_females} at {percent_overweight_female}% of the population paying on average ${avg_cost_overweight_female} dollars per year.\")\n",
    "print(f\"Number of healthy weight females: {num_healthyweight_females} at {percent_healthyweight_female}% of the population paying on average ${avg_cost_healthyweight_female} dollars per year.\")\n",
    "print(f\"Number of underweight females: {num_underweight_females} at {percent_underweight_female}% of the population paying on average ${avg_cost_underweight_female} dollars per year.\")\n",
    "print(\" \")\n",
    "print(\"Results for male data:\")\n",
    "print(f\"Number of obese males: {num_obese_males} at {percent_obese_male}% of the population paying on average ${avg_cost_obese_male} dollars per year.\")\n",
    "print(f\"Number of overweight males: {num_overweight_males} at {percent_overweight_male}% of the population paying on average ${avg_cost_overweight_male} dollars per year.\")\n",
    "print(f\"Number of healthy weight males: {num_healthyweight_males} at {percent_healthyweight_male}% of the population paying on average ${avg_cost_healthyweight_male} dollars per year.\")\n",
    "print(f\"Number of underweight males: {num_underweight_males} at {percent_underweight_male}% of the population paying on average ${avg_cost_underweight_male} dollars per year.\")"
   ]
  },
  {
   "cell_type": "markdown",
   "metadata": {},
   "source": [
    "It looks like overweight men and obese men pay more on average than their counterparts while men pay less than women for healthy and underweight individuals. What's more, it is the obese male population that is carrying that male average cost higher than females.\n",
    "\n",
    "We could replicate this process to separate the females who smoke and dont and their average costs per weight category to look deeper into the cost descrepency, along with their male counterparts. And because we have created functions for everything it is as simple as plugging the right information in. \n",
    "\n",
    "My prediction is that weight plays a bigger role on average costs vs smokers. I know that smokers will generate higher costs but I think the population would have less smokers being able to skew the numbers in that direction.\n",
    "\n",
    "Bias could be seen in bmi because weight is not a total indicator of health. Underweight males pay less but doesnt guarantee they are healthy."
   ]
  }
 ],
 "metadata": {
  "kernelspec": {
   "display_name": "Python 3 (ipykernel)",
   "language": "python",
   "name": "python3"
  },
  "language_info": {
   "codemirror_mode": {
    "name": "ipython",
    "version": 3
   },
   "file_extension": ".py",
   "mimetype": "text/x-python",
   "name": "python",
   "nbconvert_exporter": "python",
   "pygments_lexer": "ipython3",
   "version": "3.11.7"
  }
 },
 "nbformat": 4,
 "nbformat_minor": 4
}
